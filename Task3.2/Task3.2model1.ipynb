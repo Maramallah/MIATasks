{
 "cells": [
  {
   "cell_type": "markdown",
   "id": "23342881",
   "metadata": {},
   "source": [
    "## Read Data"
   ]
  },
  {
   "cell_type": "code",
   "execution_count": 1,
   "id": "89a178aa",
   "metadata": {},
   "outputs": [
    {
     "data": {
      "text/html": [
       "<div>\n",
       "<style scoped>\n",
       "    .dataframe tbody tr th:only-of-type {\n",
       "        vertical-align: middle;\n",
       "    }\n",
       "\n",
       "    .dataframe tbody tr th {\n",
       "        vertical-align: top;\n",
       "    }\n",
       "\n",
       "    .dataframe thead th {\n",
       "        text-align: right;\n",
       "    }\n",
       "</style>\n",
       "<table border=\"1\" class=\"dataframe\">\n",
       "  <thead>\n",
       "    <tr style=\"text-align: right;\">\n",
       "      <th></th>\n",
       "      <th>id</th>\n",
       "      <th>Sex</th>\n",
       "      <th>Age</th>\n",
       "      <th>Height</th>\n",
       "      <th>Weight</th>\n",
       "      <th>Duration</th>\n",
       "      <th>Heart_Rate</th>\n",
       "      <th>Body_Temp</th>\n",
       "      <th>Calories</th>\n",
       "    </tr>\n",
       "  </thead>\n",
       "  <tbody>\n",
       "    <tr>\n",
       "      <th>0</th>\n",
       "      <td>0</td>\n",
       "      <td>male</td>\n",
       "      <td>36</td>\n",
       "      <td>189.0</td>\n",
       "      <td>82.0</td>\n",
       "      <td>26.0</td>\n",
       "      <td>101.0</td>\n",
       "      <td>41.0</td>\n",
       "      <td>150.0</td>\n",
       "    </tr>\n",
       "    <tr>\n",
       "      <th>1</th>\n",
       "      <td>1</td>\n",
       "      <td>female</td>\n",
       "      <td>64</td>\n",
       "      <td>163.0</td>\n",
       "      <td>60.0</td>\n",
       "      <td>8.0</td>\n",
       "      <td>85.0</td>\n",
       "      <td>39.7</td>\n",
       "      <td>34.0</td>\n",
       "    </tr>\n",
       "    <tr>\n",
       "      <th>2</th>\n",
       "      <td>2</td>\n",
       "      <td>female</td>\n",
       "      <td>51</td>\n",
       "      <td>161.0</td>\n",
       "      <td>64.0</td>\n",
       "      <td>7.0</td>\n",
       "      <td>84.0</td>\n",
       "      <td>39.8</td>\n",
       "      <td>29.0</td>\n",
       "    </tr>\n",
       "    <tr>\n",
       "      <th>3</th>\n",
       "      <td>3</td>\n",
       "      <td>male</td>\n",
       "      <td>20</td>\n",
       "      <td>192.0</td>\n",
       "      <td>90.0</td>\n",
       "      <td>25.0</td>\n",
       "      <td>105.0</td>\n",
       "      <td>40.7</td>\n",
       "      <td>140.0</td>\n",
       "    </tr>\n",
       "    <tr>\n",
       "      <th>4</th>\n",
       "      <td>4</td>\n",
       "      <td>female</td>\n",
       "      <td>38</td>\n",
       "      <td>166.0</td>\n",
       "      <td>61.0</td>\n",
       "      <td>25.0</td>\n",
       "      <td>102.0</td>\n",
       "      <td>40.6</td>\n",
       "      <td>146.0</td>\n",
       "    </tr>\n",
       "  </tbody>\n",
       "</table>\n",
       "</div>"
      ],
      "text/plain": [
       "   id     Sex  Age  Height  Weight  Duration  Heart_Rate  Body_Temp  Calories\n",
       "0   0    male   36   189.0    82.0      26.0       101.0       41.0     150.0\n",
       "1   1  female   64   163.0    60.0       8.0        85.0       39.7      34.0\n",
       "2   2  female   51   161.0    64.0       7.0        84.0       39.8      29.0\n",
       "3   3    male   20   192.0    90.0      25.0       105.0       40.7     140.0\n",
       "4   4  female   38   166.0    61.0      25.0       102.0       40.6     146.0"
      ]
     },
     "execution_count": 1,
     "metadata": {},
     "output_type": "execute_result"
    }
   ],
   "source": [
    "import pandas as pd\n",
    "df= pd.read_csv(r\"D:\\Downloads\\MIA\\Task3\\f-1-racer-diet-planning\\train.csv\")\n",
    "df.head()"
   ]
  },
  {
   "cell_type": "markdown",
   "id": "a1c64eec",
   "metadata": {},
   "source": [
    "## Start EDA finding no need for cleaining cuz there is no nulls nor duplictaes "
   ]
  },
  {
   "cell_type": "code",
   "execution_count": 2,
   "id": "4bbf6f03",
   "metadata": {},
   "outputs": [],
   "source": [
    "# from ydata_profiling import ProfileReport\n",
    "# profile=ProfileReport(df, title = \"EDA Report\", explorative=True)\n",
    "\n",
    "# profile.to_file(\"eda_reportC2.html\")"
   ]
  },
  {
   "cell_type": "markdown",
   "id": "cfd518b3",
   "metadata": {},
   "source": [
    "## Importing libraries i`m gonna  need"
   ]
  },
  {
   "cell_type": "code",
   "execution_count": 3,
   "id": "8b75f9e7",
   "metadata": {},
   "outputs": [],
   "source": [
    "\n",
    "from sklearn.model_selection import train_test_split\n",
    "from sklearn.metrics import mean_squared_error, r2_score\n",
    "from sklearn.preprocessing import StandardScaler\n",
    "from sklearn.linear_model import LinearRegression, Ridge, Lasso,ElasticNet\n",
    "from sklearn.model_selection import GridSearchCV\n",
    "from sklearn.linear_model import ElasticNet, Ridge, Lasso\n",
    "from sklearn.metrics import make_scorer, mean_squared_error\n",
    "import numpy as np\n",
    "\n"
   ]
  },
  {
   "cell_type": "markdown",
   "id": "22dd8872",
   "metadata": {},
   "source": [
    "## select feature and target"
   ]
  },
  {
   "cell_type": "code",
   "execution_count": 4,
   "id": "7d40b897",
   "metadata": {},
   "outputs": [],
   "source": [
    "x = df.drop(columns=['id', 'Calories'])\n",
    "y = df['Calories']\n"
   ]
  },
  {
   "cell_type": "markdown",
   "id": "0c42033a",
   "metadata": {},
   "source": [
    "## encode categorial to numeric "
   ]
  },
  {
   "cell_type": "code",
   "execution_count": 5,
   "id": "bc43a9f5",
   "metadata": {},
   "outputs": [
    {
     "data": {
      "text/html": [
       "<div>\n",
       "<style scoped>\n",
       "    .dataframe tbody tr th:only-of-type {\n",
       "        vertical-align: middle;\n",
       "    }\n",
       "\n",
       "    .dataframe tbody tr th {\n",
       "        vertical-align: top;\n",
       "    }\n",
       "\n",
       "    .dataframe thead th {\n",
       "        text-align: right;\n",
       "    }\n",
       "</style>\n",
       "<table border=\"1\" class=\"dataframe\">\n",
       "  <thead>\n",
       "    <tr style=\"text-align: right;\">\n",
       "      <th></th>\n",
       "      <th>Sex</th>\n",
       "      <th>Age</th>\n",
       "      <th>Height</th>\n",
       "      <th>Weight</th>\n",
       "      <th>Duration</th>\n",
       "      <th>Heart_Rate</th>\n",
       "      <th>Body_Temp</th>\n",
       "    </tr>\n",
       "  </thead>\n",
       "  <tbody>\n",
       "    <tr>\n",
       "      <th>0</th>\n",
       "      <td>1</td>\n",
       "      <td>36</td>\n",
       "      <td>189.0</td>\n",
       "      <td>82.0</td>\n",
       "      <td>26.0</td>\n",
       "      <td>101.0</td>\n",
       "      <td>41.0</td>\n",
       "    </tr>\n",
       "    <tr>\n",
       "      <th>1</th>\n",
       "      <td>0</td>\n",
       "      <td>64</td>\n",
       "      <td>163.0</td>\n",
       "      <td>60.0</td>\n",
       "      <td>8.0</td>\n",
       "      <td>85.0</td>\n",
       "      <td>39.7</td>\n",
       "    </tr>\n",
       "    <tr>\n",
       "      <th>2</th>\n",
       "      <td>0</td>\n",
       "      <td>51</td>\n",
       "      <td>161.0</td>\n",
       "      <td>64.0</td>\n",
       "      <td>7.0</td>\n",
       "      <td>84.0</td>\n",
       "      <td>39.8</td>\n",
       "    </tr>\n",
       "    <tr>\n",
       "      <th>3</th>\n",
       "      <td>1</td>\n",
       "      <td>20</td>\n",
       "      <td>192.0</td>\n",
       "      <td>90.0</td>\n",
       "      <td>25.0</td>\n",
       "      <td>105.0</td>\n",
       "      <td>40.7</td>\n",
       "    </tr>\n",
       "    <tr>\n",
       "      <th>4</th>\n",
       "      <td>0</td>\n",
       "      <td>38</td>\n",
       "      <td>166.0</td>\n",
       "      <td>61.0</td>\n",
       "      <td>25.0</td>\n",
       "      <td>102.0</td>\n",
       "      <td>40.6</td>\n",
       "    </tr>\n",
       "  </tbody>\n",
       "</table>\n",
       "</div>"
      ],
      "text/plain": [
       "   Sex  Age  Height  Weight  Duration  Heart_Rate  Body_Temp\n",
       "0    1   36   189.0    82.0      26.0       101.0       41.0\n",
       "1    0   64   163.0    60.0       8.0        85.0       39.7\n",
       "2    0   51   161.0    64.0       7.0        84.0       39.8\n",
       "3    1   20   192.0    90.0      25.0       105.0       40.7\n",
       "4    0   38   166.0    61.0      25.0       102.0       40.6"
      ]
     },
     "execution_count": 5,
     "metadata": {},
     "output_type": "execute_result"
    }
   ],
   "source": [
    "x['Sex'] = np.where(x['Sex'] == 'male', 1, 0)\n",
    "x.head()"
   ]
  },
  {
   "cell_type": "markdown",
   "id": "41825eaf",
   "metadata": {},
   "source": [
    "## detect outliers used 3 not 1.5 to make the iqr less strict "
   ]
  },
  {
   "cell_type": "code",
   "execution_count": 6,
   "id": "8866d28c",
   "metadata": {},
   "outputs": [
    {
     "name": "stdout",
     "output_type": "stream",
     "text": [
      "Sex: 0 outliers\n",
      "Age: 0 outliers\n",
      "Height: 0 outliers\n",
      "Weight: 0 outliers\n",
      "Duration: 0 outliers\n",
      "Heart_Rate: 0 outliers\n",
      "Body_Temp: 0 outliers\n"
     ]
    }
   ],
   "source": [
    "\n",
    "# Check outliers for numeric columns only\n",
    "numeric_cols = x.select_dtypes(include=[np.number]).columns\n",
    "\n",
    "for col in numeric_cols:\n",
    "    Q1 = x[col].quantile(0.25)\n",
    "    Q3 = x[col].quantile(0.75)\n",
    "    IQR = Q3 - Q1\n",
    "    lower_bound = Q1 - 3 * IQR\n",
    "    upper_bound = Q3 + 3 * IQR\n",
    "    \n",
    "    outliers = x[(x[col] < lower_bound) | (x[col] > upper_bound)]\n",
    "    \n",
    "    print(f\"{col}: {len(outliers)} outliers\")\n",
    "    \n",
    "\n"
   ]
  },
  {
   "cell_type": "markdown",
   "id": "f5bb44e4",
   "metadata": {},
   "source": [
    "## split Data to train , validate , test "
   ]
  },
  {
   "cell_type": "code",
   "execution_count": 7,
   "id": "42678bc0",
   "metadata": {},
   "outputs": [],
   "source": [
    "x_train, x_test, y_train, y_test = train_test_split(x, y, test_size=0.2, random_state=42)\n",
    "x_train, x_val, y_train, y_val = train_test_split(x_train, y_train, test_size=0.2, random_state=42) "
   ]
  },
  {
   "cell_type": "markdown",
   "id": "b129bdea",
   "metadata": {},
   "source": [
    "## Scaling data "
   ]
  },
  {
   "cell_type": "code",
   "execution_count": 8,
   "id": "8a73fa94",
   "metadata": {},
   "outputs": [],
   "source": [
    "scaler = StandardScaler()\n",
    "x_train = scaler.fit_transform(x_train)\n",
    "x_val = scaler.transform(x_val)\n",
    "x_test = scaler.transform(x_test)\n"
   ]
  },
  {
   "cell_type": "markdown",
   "id": "a6042fe2",
   "metadata": {},
   "source": [
    "## Gride search to pick best paramter and model "
   ]
  },
  {
   "cell_type": "code",
   "execution_count": null,
   "id": "bd95da07",
   "metadata": {},
   "outputs": [
    {
     "name": "stdout",
     "output_type": "stream",
     "text": [
      "Best Model: Ridge(alpha=0.1, max_iter=50000)\n",
      "Best Parameters: {'alpha': 0.1}\n",
      "Best RMSE: 11.110346417822367\n",
      "Validation RMSE: 11.094066207833228\n"
     ]
    }
   ],
   "source": [
    "from sklearn.model_selection import GridSearchCV\n",
    "from sklearn.linear_model import ElasticNet, Ridge, Lasso\n",
    "from sklearn.metrics import make_scorer, mean_squared_error\n",
    "import numpy as np\n",
    "\n",
    "# RMSE scorer\n",
    "def rmse(y_true, y_pred):\n",
    "    return np.sqrt(mean_squared_error(y_true, y_pred))\n",
    "\n",
    "rmse_scorer = make_scorer(rmse, greater_is_better=False)\n",
    "\n",
    "# Define models and their parameter grids\n",
    "models_params = [\n",
    "    {\n",
    "        \"model\": [ElasticNet(max_iter=50000)],\n",
    "        \"alpha\": [0.001, 0.01, 0.1, 1],\n",
    "        \"l1_ratio\": [0.1, 0.5, 0.9]\n",
    "    },\n",
    "    {\n",
    "        \"model\": [Ridge(max_iter=50000)],\n",
    "        \"alpha\": [0.01, 0.1, 1, 10]\n",
    "    },\n",
    "    {\n",
    "        \"model\": [Lasso(max_iter=50000)],\n",
    "        \"alpha\": [0.001, 0.01, 0.1, 1]\n",
    "    }\n",
    "]\n",
    "\n",
    "best_score = np.inf\n",
    "best_model = None\n",
    "best_params = None\n",
    "\n",
    "for mp in models_params:\n",
    "    model = mp[\"model\"][0]  # current model\n",
    "    params = {k: v for k, v in mp.items() if k != \"model\"}  # hyperparameters only\n",
    "    \n",
    "    grid = GridSearchCV(\n",
    "        estimator=model,\n",
    "        param_grid=params,\n",
    "        scoring=rmse_scorer,\n",
    "        # cross validation to k = 3 because data is large\n",
    "        cv=3,\n",
    "        # to use all cpu cores\n",
    "        n_jobs=-1\n",
    "    )\n",
    "    grid.fit(x_train, y_train)\n",
    "    \n",
    "    # Update best model if current RMSE is lower\n",
    "    if -grid.best_score_ < best_score:  # multiply by -1 because scorer is negative\n",
    "        best_score = -grid.best_score_\n",
    "        best_model = grid.best_estimator_\n",
    "        best_params = grid.best_params_\n",
    "\n",
    "print(\"Best Model:\", best_model)\n",
    "print(\"Best Parameters:\", best_params)\n",
    "print(\"Best RMSE:\", best_score)\n",
    "\n",
    "# Evaluate on validation set\n",
    "y_val_pred = best_model.predict(x_val)\n",
    "val_rmse = rmse(y_val, y_val_pred)\n",
    "print(\"Validation RMSE:\", val_rmse)\n"
   ]
  },
  {
   "cell_type": "markdown",
   "id": "103e3078",
   "metadata": {},
   "source": [
    "## Read test Data and applay same preprossecing on it "
   ]
  },
  {
   "cell_type": "code",
   "execution_count": 10,
   "id": "c142eb5b",
   "metadata": {},
   "outputs": [],
   "source": [
    "df_test= pd.read_csv(r\"D:\\Downloads\\MIA\\Task3\\f-1-racer-diet-planning\\test.csv\")\n",
    "\n",
    "x_test = df_test.drop(columns=['id'])\n",
    "x_test['Sex'] = np.where(x_test['Sex'] == 'male', 1, 0)\n",
    "x_test_scaled = scaler.transform(x_test)"
   ]
  },
  {
   "cell_type": "markdown",
   "id": "2aaedb3c",
   "metadata": {},
   "source": [
    "## preduction submission "
   ]
  },
  {
   "cell_type": "code",
   "execution_count": 12,
   "id": "22cffbc9",
   "metadata": {},
   "outputs": [],
   "source": [
    "y_test_pred = grid.predict(x_test_scaled)\n",
    "\n",
    "submission = pd.DataFrame({\n",
    "    \"id\": df_test[\"id\"],\n",
    "    \"Calories\": np.round(y_test_pred, 3)\n",
    "})\n",
    "submission.to_csv(\"submissionTsk3.2model1.csv\", index=False)"
   ]
  }
 ],
 "metadata": {
  "kernelspec": {
   "display_name": "base",
   "language": "python",
   "name": "python3"
  },
  "language_info": {
   "codemirror_mode": {
    "name": "ipython",
    "version": 3
   },
   "file_extension": ".py",
   "mimetype": "text/x-python",
   "name": "python",
   "nbconvert_exporter": "python",
   "pygments_lexer": "ipython3",
   "version": "3.12.4"
  }
 },
 "nbformat": 4,
 "nbformat_minor": 5
}
